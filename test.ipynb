{
 "cells": [
  {
   "cell_type": "code",
   "execution_count": 118,
   "metadata": {},
   "outputs": [],
   "source": [
    "import pandas as pd\n",
    "import numpy as np\n",
    "\n",
    "# Read the data\n",
    "id = \"ff48df57-58c2-4eb4-9c12-e604c9651790\"\n",
    "\n",
    "Datasotre_API = f\"https://ckan.indiadataportal.com/api/3/action/datastore_info?id={id}&include_unique=false\"\n",
    "Resource_API = f\"https://ckan.indiadataportal.com/api/3/action/resource_show?id={id}\"\n",
    "\n",
    "\n",
    "df = pd.read_json(Datasotre_API)\n",
    "data = df['result']['fields']\n",
    "\n",
    "resourceData = pd.read_json(Resource_API)"
   ]
  },
  {
   "cell_type": "code",
   "execution_count": 119,
   "metadata": {},
   "outputs": [],
   "source": [
    "primary_contains = [\"id\"]\n",
    "temporal_contains = [\"date\",\"time\",\"year\",\"month\",\"day\",\"hour\",\"minute\",\"second\"]\n",
    "ordinal_dtypes_contains = [\"int\",\"float\",\"double\",\"numeric\"]\n",
    "ordinal_ignore = [\"code\"]"
   ]
  },
  {
   "cell_type": "code",
   "execution_count": 120,
   "metadata": {},
   "outputs": [],
   "source": [
    "primary_col = []\n",
    "temporal_cols = []\n",
    "ordinal_cols = []\n",
    "category_cols = []\n",
    "\n",
    "for col in data:\n",
    "    if col[\"schema\"][\"is_index\"]:\n",
    "        primary_col.append(col[\"id\"])\n",
    "    elif any(x in col[\"id\"].lower() for x in temporal_contains):\n",
    "        temporal_cols.append(col[\"id\"])\n",
    "    elif any(x in col[\"type\"].lower() for x in ordinal_dtypes_contains) and not any(x in col[\"id\"].lower() for x in ordinal_ignore):\n",
    "        ordinal_cols.append(col[\"id\"])\n",
    "    else:\n",
    "        category_cols.append(col[\"id\"])"
   ]
  },
  {
   "cell_type": "code",
   "execution_count": 123,
   "metadata": {},
   "outputs": [],
   "source": [
    "name = resourceData[\"result\"][\"name\"].replace(\" \",\"_\")\n",
    "yml_dict = {\n",
    "    \"cubes\":\n",
    "    [\n",
    "        {\n",
    "            \"name\" : name,\n",
    "            \"joins\": [],\n",
    "            \"dimensions\": [],\n",
    "            \"measures\": [],\n",
    "        }\n",
    "    ]\n",
    "}\n",
    "\n",
    "for cols in ordinal_cols:\n",
    "    yml_dict[\"cubes\"][0][\"measures\"].append({\n",
    "        \"name\": cols,\n",
    "        \"sql\": \"SUM(\"+cols+\")\",\n",
    "        \"type\": \"number\"\n",
    "    })\n",
    "\n",
    "# add to inculude primary key in datamodeling\n",
    "\n",
    "# yml_dict[\"cubes\"][0][\"dimensions\"].append({\n",
    "#     \"name\": primary_col[0],\n",
    "#     \"sql\": primary_col[0],\n",
    "#     \"type\": \"string\",\n",
    "#     \"primaryKey\": True\n",
    "# })\n",
    "\n",
    "\n",
    "for cols in category_cols:\n",
    "    yml_dict[\"cubes\"][0][\"dimensions\"].append({\n",
    "        \"name\": cols,\n",
    "        \"sql\": cols,\n",
    "        \"type\": \"string\"\n",
    "    })\n",
    "\n",
    "for cols in temporal_cols:\n",
    "    yml_dict[\"cubes\"][0][\"dimensions\"].append({\n",
    "        \"name\": cols,\n",
    "        \"sql\": cols,\n",
    "        \"type\": \"time\"\n",
    "    })"
   ]
  },
  {
   "cell_type": "code",
   "execution_count": 124,
   "metadata": {},
   "outputs": [],
   "source": [
    "import yaml\n",
    "class MyDumper(yaml.Dumper):\n",
    "    def increase_indent(self, flow=False, indentless=False):\n",
    "        return super(MyDumper, self).increase_indent(flow, False)\n",
    "\n",
    "with open(name+\".yml\", 'w') as outfile:\n",
    "    outfile.write(yaml.dump(yml_dict,Dumper=MyDumper,sort_keys=False))\n",
    "    outfile.write(\"    sql_table: \\\"public.\\\\\\\"\"+id+\"\\\\\\\"\\\"\")\n",
    "    outfile.write(\"\\n\")"
   ]
  },
  {
   "cell_type": "code",
   "execution_count": null,
   "metadata": {},
   "outputs": [],
   "source": [
    "cube_name = name"
   ]
  },
  {
   "cell_type": "code",
   "execution_count": 18,
   "metadata": {},
   "outputs": [
    {
     "name": "stdout",
     "output_type": "stream",
     "text": [
      "{'Basic_Statistical_Return': [{'res_id': 'fd6eaa8e-ce59-4a10-8237-d6bfcd2f5358'}, {'orignal_name': 'Basic Statistical Return (BSR)- Credit by Scheduled Commercial Banks (SCBs)'}]}\n",
      "{'Basic_Statistical_Return': [{'res_id': 'fd6eaa8e-ce59-4a10-8237-d6bfcd2f5358'}, {'orignal_name': 'Basic Statistical Return (BSR)- Credit by Scheduled Commercial Banks (SCBs)'}], '33e3': [{'res_id': 9330203}, {'orignal_name': 'nejnfjnejnfe'}]}\n"
     ]
    }
   ],
   "source": [
    "import yaml\n",
    "\n",
    "with open(\"cube_store_mapping.yml\", 'r+') as file:\n",
    "    documents = yaml.full_load(file)\n",
    "    if not documents:\n",
    "        documents = {}\n",
    "        print(\"empty\")\n",
    "    print(documents)\n",
    "    documents[\"33e3\"] = [{\"res_id\":9330203},{\"orignal_name\":\"nejnfjnejnfe\"}]\n",
    "    print(documents)\n",
    "    file.seek(0)\n",
    "    yaml.dump(documents, file)\n",
    "    "
   ]
  },
  {
   "cell_type": "code",
   "execution_count": null,
   "metadata": {},
   "outputs": [],
   "source": []
  }
 ],
 "metadata": {
  "kernelspec": {
   "display_name": "base",
   "language": "python",
   "name": "python3"
  },
  "language_info": {
   "codemirror_mode": {
    "name": "ipython",
    "version": 3
   },
   "file_extension": ".py",
   "mimetype": "text/x-python",
   "name": "python",
   "nbconvert_exporter": "python",
   "pygments_lexer": "ipython3",
   "version": "3.10.9"
  },
  "orig_nbformat": 4,
  "vscode": {
   "interpreter": {
    "hash": "1f9761786ac07e4eab4386916b2ac1a9951f01c213aa09aceac38efe2713e05d"
   }
  }
 },
 "nbformat": 4,
 "nbformat_minor": 2
}
